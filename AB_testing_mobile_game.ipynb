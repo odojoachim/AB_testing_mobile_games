{
 "cells": [
  {
   "cell_type": "markdown",
   "metadata": {},
   "source": [
    "#### The dataset columns\n",
    "\n",
    "| Column name | Description |\n",
    "| --- | --- |\n",
    "| user_id | A unique number that identifies each player |\n",
    "| version | group 30 - control group group 40 & group 50 test group | \n",
    "| sum_gamerounds | The number of game rounds played by the player during the first 14 days after install |\n",
    "| retention1 | Did the player come back and play 1 day after installing |\n",
    "| retention_7 | Did the player come back and play 7 days after installing |"
   ]
  },
  {
   "cell_type": "code",
   "execution_count": 1,
   "metadata": {},
   "outputs": [],
   "source": [
    "import pandas as pd\n",
    "import numpy as np\n",
    "import matplotlib.pyplot as plt\n",
    "import seaborn as sns\n",
    "%matplotlib inline"
   ]
  },
  {
   "cell_type": "code",
   "execution_count": 2,
   "metadata": {},
   "outputs": [],
   "source": [
    "games = pd.read_csv(\"C:/Users/fajlh/OneDrive/Documents/ABtest/AB_test_git/cookie_cats.csv\")"
   ]
  },
  {
   "cell_type": "code",
   "execution_count": 6,
   "metadata": {},
   "outputs": [
    {
     "data": {
      "text/html": [
       "<div>\n",
       "<style scoped>\n",
       "    .dataframe tbody tr th:only-of-type {\n",
       "        vertical-align: middle;\n",
       "    }\n",
       "\n",
       "    .dataframe tbody tr th {\n",
       "        vertical-align: top;\n",
       "    }\n",
       "\n",
       "    .dataframe thead th {\n",
       "        text-align: right;\n",
       "    }\n",
       "</style>\n",
       "<table border=\"1\" class=\"dataframe\">\n",
       "  <thead>\n",
       "    <tr style=\"text-align: right;\">\n",
       "      <th></th>\n",
       "      <th>userid</th>\n",
       "      <th>version</th>\n",
       "      <th>sum_gamerounds</th>\n",
       "      <th>retention_1</th>\n",
       "      <th>retention_7</th>\n",
       "    </tr>\n",
       "  </thead>\n",
       "  <tbody>\n",
       "    <tr>\n",
       "      <th>0</th>\n",
       "      <td>116</td>\n",
       "      <td>gate_30</td>\n",
       "      <td>3</td>\n",
       "      <td>0</td>\n",
       "      <td>0</td>\n",
       "    </tr>\n",
       "    <tr>\n",
       "      <th>1</th>\n",
       "      <td>337</td>\n",
       "      <td>gate_30</td>\n",
       "      <td>38</td>\n",
       "      <td>1</td>\n",
       "      <td>0</td>\n",
       "    </tr>\n",
       "    <tr>\n",
       "      <th>2</th>\n",
       "      <td>377</td>\n",
       "      <td>gate_40</td>\n",
       "      <td>165</td>\n",
       "      <td>1</td>\n",
       "      <td>0</td>\n",
       "    </tr>\n",
       "    <tr>\n",
       "      <th>3</th>\n",
       "      <td>483</td>\n",
       "      <td>gate_40</td>\n",
       "      <td>1</td>\n",
       "      <td>0</td>\n",
       "      <td>0</td>\n",
       "    </tr>\n",
       "    <tr>\n",
       "      <th>4</th>\n",
       "      <td>488</td>\n",
       "      <td>gate_40</td>\n",
       "      <td>179</td>\n",
       "      <td>1</td>\n",
       "      <td>1</td>\n",
       "    </tr>\n",
       "  </tbody>\n",
       "</table>\n",
       "</div>"
      ],
      "text/plain": [
       "   userid  version  sum_gamerounds  retention_1  retention_7\n",
       "0     116  gate_30               3            0            0\n",
       "1     337  gate_30              38            1            0\n",
       "2     377  gate_40             165            1            0\n",
       "3     483  gate_40               1            0            0\n",
       "4     488  gate_40             179            1            1"
      ]
     },
     "execution_count": 6,
     "metadata": {},
     "output_type": "execute_result"
    }
   ],
   "source": [
    "games.head()"
   ]
  },
  {
   "cell_type": "code",
   "execution_count": 4,
   "metadata": {},
   "outputs": [
    {
     "data": {
      "image/png": "[encoded data removed]",
      "text/plain": [
       "<Figure size 720x288 with 1 Axes>"
      ]
     },
     "metadata": {
      "needs_background": "light"
     },
     "output_type": "display_data"
    }
   ],
   "source": [
    "plt.figure(figsize=(10,4))\n",
    "sns.set(rc={\"axes.facecolor\":\"#0ff0f7\", \"axes.grid\":False})\n",
    "sns.countplot(x=games['version'] , order=games['version'].value_counts().index, palette=['#ebce13',\"#09d681\"])\n",
    "plt.show()"
   ]
  },
  {
   "cell_type": "code",
   "execution_count": 5,
   "metadata": {},
   "outputs": [],
   "source": [
    "games[\"retention_1\"] = games[\"retention_1\"].astype(int)\n",
    "games[\"retention_7\"] = games[\"retention_7\"].astype(int)"
   ]
  },
  {
   "cell_type": "markdown",
   "metadata": {},
   "source": [
    "#### Probability of retention"
   ]
  },
  {
   "cell_type": "code",
   "execution_count": 17,
   "metadata": {},
   "outputs": [
    {
     "name": "stdout",
     "output_type": "stream",
     "text": [
      "0.4481879194630872\n"
     ]
    }
   ],
   "source": [
    "p30_1 = games[(games['version'] == 'gate_30') & (games['retention_1'] == 1)].shape[0]/games[games['version'] == 'gate_30'].shape[0]\n",
    "print(p30_1)"
   ]
  },
  {
   "cell_type": "code",
   "execution_count": 19,
   "metadata": {},
   "outputs": [
    {
     "name": "stdout",
     "output_type": "stream",
     "text": [
      "0.19020134228187918\n"
     ]
    }
   ],
   "source": [
    "p30_7 = games[(games['version'] == 'gate_30') & (games['retention_7'] == 1)].shape[0]/games[games['version'] == 'gate_30'].shape[0]\n",
    "print(p30_7)"
   ]
  },
  {
   "cell_type": "markdown",
   "metadata": {},
   "source": [
    "#### Normality assumption"
   ]
  },
  {
   "cell_type": "code",
   "execution_count": 21,
   "metadata": {},
   "outputs": [
    {
     "data": {
      "text/plain": [
       "20034.0"
      ]
     },
     "execution_count": 21,
     "metadata": {},
     "output_type": "execute_result"
    }
   ],
   "source": [
    "games[games['version'] == 'gate_30'].shape[0] * (p30_1)"
   ]
  },
  {
   "cell_type": "markdown",
   "metadata": {},
   "source": [
    "#### Standard error of the mean"
   ]
  },
  {
   "cell_type": "code",
   "execution_count": 24,
   "metadata": {},
   "outputs": [
    {
     "name": "stdout",
     "output_type": "stream",
     "text": [
      "0.00235218736941068\n"
     ]
    }
   ],
   "source": [
    "SE_30_1 = ((p30_1*(1-p30_1))/games[games['version'] == 'gate_30'].shape[0])**0.5\n",
    "print(SE_30_1)"
   ]
  },
  {
   "cell_type": "code",
   "execution_count": 26,
   "metadata": {},
   "outputs": [
    {
     "name": "stdout",
     "output_type": "stream",
     "text": [
      "0.001856271742020776\n"
     ]
    }
   ],
   "source": [
    "SE_30_7 = ((p30_7*(1-p30_7))/games[games['version'] == 'gate_30'].shape[0])**0.5\n",
    "print(SE_30_7)"
   ]
  },
  {
   "cell_type": "markdown",
   "metadata": {},
   "source": [
    "#### margin of error"
   ]
  },
  {
   "cell_type": "code",
   "execution_count": 29,
   "metadata": {},
   "outputs": [
    {
     "name": "stdout",
     "output_type": "stream",
     "text": [
      "0.006068643413079554\n"
     ]
    }
   ],
   "source": [
    "m30_1 = 2.58 * SE_30_1\n",
    "print(m30_1)"
   ]
  },
  {
   "cell_type": "code",
   "execution_count": 30,
   "metadata": {},
   "outputs": [
    {
     "name": "stdout",
     "output_type": "stream",
     "text": [
      "0.004789181094413602\n"
     ]
    }
   ],
   "source": [
    "m30_7 = 2.58*SE_30_7\n",
    "print(m30_7)"
   ]
  },
  {
   "cell_type": "markdown",
   "metadata": {},
   "source": [
    "#### confidence interval for retention"
   ]
  },
  {
   "cell_type": "code",
   "execution_count": 38,
   "metadata": {},
   "outputs": [
    {
     "name": "stdout",
     "output_type": "stream",
     "text": [
      "The 99% Confidence Interval for the number of retention in day 1 for gate at level 30 would be between 19762.731639435344 and 20305.268360564656\n",
      "The 99% Confidence Interval for the number of retention in day 7 for gate at level 30 would be between 8287.923605079712 and 8716.076394920286\n"
     ]
    }
   ],
   "source": [
    "# The number of retention in day 1 would be between \n",
    "# print((p30_1 - m30_1) * games[games['version'] == 'gate_30'].shape[0])\n",
    "# print((p30_1 + m30_1) * games[games['version'] == 'gate_30'].shape[0])\n",
    "print(\"The 99% Confidence Interval for the number of retention in day 1 for gate at level 30 would be between {} and {}\".format((p30_1 - m30_1) * games[games['version'] == 'gate_30'].shape[0], (p30_1 + m30_1) * games[games['version'] == 'gate_30'].shape[0]))\n",
    "print(\"The 99% Confidence Interval for the number of retention in day 7 for gate at level 30 would be between {} and {}\".format((p30_7 - m30_7) * games[games['version'] == 'gate_30'].shape[0], (p30_7 + m30_7) * games[games['version'] == 'gate_30'].shape[0]))\n"
   ]
  },
  {
   "cell_type": "code",
   "execution_count": null,
   "metadata": {},
   "outputs": [],
   "source": []
  },
  {
   "cell_type": "code",
   "execution_count": null,
   "metadata": {},
   "outputs": [],
   "source": []
  },
  {
   "cell_type": "code",
   "execution_count": null,
   "metadata": {},
   "outputs": [],
   "source": []
  },
  {
   "cell_type": "code",
   "execution_count": null,
   "metadata": {},
   "outputs": [],
   "source": []
  },
  {
   "cell_type": "code",
   "execution_count": null,
   "metadata": {},
   "outputs": [],
   "source": []
  },
  {
   "cell_type": "code",
   "execution_count": 18,
   "metadata": {},
   "outputs": [
    {
     "name": "stdout",
     "output_type": "stream",
     "text": [
      "0.44228274967574577\n"
     ]
    }
   ],
   "source": [
    "p40_1 = games[(games['version'] == 'gate_40') & (games['retention_1'] == 1)].shape[0]/games[games['version'] == 'gate_40'].shape[0]\n",
    "print(p40_1)"
   ]
  },
  {
   "cell_type": "code",
   "execution_count": 20,
   "metadata": {},
   "outputs": [
    {
     "name": "stdout",
     "output_type": "stream",
     "text": [
      "0.18200004396667327\n"
     ]
    }
   ],
   "source": [
    "p40_7 = games[(games['version'] == 'gate_40') & (games['retention_7'] == 1)].shape[0]/games[games['version'] == 'gate_40'].shape[0]\n",
    "print(p40_7)"
   ]
  },
  {
   "cell_type": "code",
   "execution_count": 25,
   "metadata": {},
   "outputs": [
    {
     "name": "stdout",
     "output_type": "stream",
     "text": [
      "0.0023286479953834732\n"
     ]
    }
   ],
   "source": [
    "SE_40_1 = ((p40_1*(1-p40_1))/games[games['version'] == 'gate_40'].shape[0])**0.5\n",
    "print(SE_40_1)"
   ]
  },
  {
   "cell_type": "code",
   "execution_count": 27,
   "metadata": {},
   "outputs": [
    {
     "name": "stdout",
     "output_type": "stream",
     "text": [
      "0.0018090859125447062\n"
     ]
    }
   ],
   "source": [
    "SE_40_7 = ((p40_7*(1-p40_7))/games[games['version'] == 'gate_40'].shape[0])**0.5\n",
    "print(SE_40_7)"
   ]
  },
  {
   "cell_type": "code",
   "execution_count": 31,
   "metadata": {},
   "outputs": [
    {
     "name": "stdout",
     "output_type": "stream",
     "text": [
      "0.006007911828089361\n"
     ]
    }
   ],
   "source": [
    "m40_1 = 2.58*SE_40_1\n",
    "print(m40_1)"
   ]
  },
  {
   "cell_type": "code",
   "execution_count": 32,
   "metadata": {},
   "outputs": [
    {
     "name": "stdout",
     "output_type": "stream",
     "text": [
      "0.004667441654365342\n"
     ]
    }
   ],
   "source": [
    "m40_7 = 2.58 * SE_40_7\n",
    "print(m40_7)"
   ]
  },
  {
   "cell_type": "code",
   "execution_count": 39,
   "metadata": {},
   "outputs": [
    {
     "name": "stdout",
     "output_type": "stream",
     "text": [
      "The 99% Confidence Interval for the number of retention in day 1 for gate at level 40 would be between 19845.706098852042 and 20038.59256922143\n",
      "The 99% Confidence Interval for the number of retention in day 1 for gate at level 30 would be between 8066.682746584575 and 8491.317253415426\n"
     ]
    }
   ],
   "source": [
    "print(\"The 99% Confidence Interval for the number of retention in day 1 for gate at level 40 would be between {} and {}\".format((p40_1 - m40_1) * games[games['version'] == 'gate_40'].shape[0], (p40_1 + m40_1) * games[games['version'] == 'gate_30'].shape[0]))\n",
    "print(\"The 99% Confidence Interval for the number of retention in day 1 for gate at level 30 would be between {} and {}\".format((p40_7 - m40_7) * games[games['version'] == 'gate_40'].shape[0], (p40_7 + m40_7) * games[games['version'] == 'gate_40'].shape[0]))\n"
   ]
  }
 ],
 "metadata": {
  "kernelspec": {
   "display_name": "Python 3",
   "language": "python",
   "name": "python3"
  },
  "language_info": {
   "codemirror_mode": {
    "name": "ipython",
    "version": 3
   },
   "file_extension": ".py",
   "mimetype": "text/x-python",
   "name": "python",
   "nbconvert_exporter": "python",
   "pygments_lexer": "ipython3",
   "version": "3.7.0"
  }
 },
 "nbformat": 4,
 "nbformat_minor": 2
}
