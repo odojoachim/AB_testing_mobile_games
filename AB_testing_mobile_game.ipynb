{
 "cells": [
  {
   "cell_type": "markdown",
   "metadata": {},
   "source": [
    "#### Introducing to the business problem\n",
    "\n",
    "AB testing has different applications including optimizing the website or mobile app as well as determining the probability threshold for a second-time conversion rate for example. We can measure after building churn prediction what is the best probability threshold to encourage the user to another contact with the business. However, AB testing cannot tell you if you miss something. It compares old to new design / method / style. \n",
    "\n",
    "In this project due to data availability, I will concentrate on introducing a new feature on the website. You will exposure new and existing user to 2 different versions old version, called control group and the new method, called test group and will measure the response from the user. In the current version, we have a gate on level 30 and we want to test if this gate would be good to put on level 40 or keep in the old place - gate 30. \n",
    "\n",
    "In the dataset we have 5 columns such that: "
   ]
  },
  {
   "cell_type": "markdown",
   "metadata": {},
   "source": [
    "#### The dataset columns\n",
    "\n",
    "| Column name | Description |\n",
    "| --- | --- |\n",
    "| user_id | A unique number that identifies each player |\n",
    "| version | group 30 - control group group 40 & group 50 test group | \n",
    "| sum_gamerounds | The number of game rounds played by the player during the first 14 days after install |\n",
    "| retention1 | Did the player come back and play 1 day after installing |\n",
    "| retention_7 | Did the player come back and play 7 days after installing |"
   ]
  },
  {
   "cell_type": "code",
   "execution_count": 1,
   "metadata": {},
   "outputs": [],
   "source": [
    "import pandas as pd\n",
    "import numpy as np\n",
    "import matplotlib.pyplot as plt\n",
    "import seaborn as sns\n",
    "%matplotlib inline"
   ]
  },
  {
   "cell_type": "code",
   "execution_count": 2,
   "metadata": {},
   "outputs": [],
   "source": [
    "games = pd.read_csv(\"C:/Users/fajlh/OneDrive/Documents/ABtest/AB_test_git/cookie_cats.csv\")"
   ]
  },
  {
   "cell_type": "code",
   "execution_count": 3,
   "metadata": {},
   "outputs": [
    {
     "data": {
      "text/html": [
       "<div>\n",
       "<style scoped>\n",
       "    .dataframe tbody tr th:only-of-type {\n",
       "        vertical-align: middle;\n",
       "    }\n",
       "\n",
       "    .dataframe tbody tr th {\n",
       "        vertical-align: top;\n",
       "    }\n",
       "\n",
       "    .dataframe thead th {\n",
       "        text-align: right;\n",
       "    }\n",
       "</style>\n",
       "<table border=\"1\" class=\"dataframe\">\n",
       "  <thead>\n",
       "    <tr style=\"text-align: right;\">\n",
       "      <th></th>\n",
       "      <th>userid</th>\n",
       "      <th>version</th>\n",
       "      <th>sum_gamerounds</th>\n",
       "      <th>retention_1</th>\n",
       "      <th>retention_7</th>\n",
       "    </tr>\n",
       "  </thead>\n",
       "  <tbody>\n",
       "    <tr>\n",
       "      <th>0</th>\n",
       "      <td>116</td>\n",
       "      <td>gate_30</td>\n",
       "      <td>3</td>\n",
       "      <td>False</td>\n",
       "      <td>False</td>\n",
       "    </tr>\n",
       "    <tr>\n",
       "      <th>1</th>\n",
       "      <td>337</td>\n",
       "      <td>gate_30</td>\n",
       "      <td>38</td>\n",
       "      <td>True</td>\n",
       "      <td>False</td>\n",
       "    </tr>\n",
       "    <tr>\n",
       "      <th>2</th>\n",
       "      <td>377</td>\n",
       "      <td>gate_40</td>\n",
       "      <td>165</td>\n",
       "      <td>True</td>\n",
       "      <td>False</td>\n",
       "    </tr>\n",
       "    <tr>\n",
       "      <th>3</th>\n",
       "      <td>483</td>\n",
       "      <td>gate_40</td>\n",
       "      <td>1</td>\n",
       "      <td>False</td>\n",
       "      <td>False</td>\n",
       "    </tr>\n",
       "    <tr>\n",
       "      <th>4</th>\n",
       "      <td>488</td>\n",
       "      <td>gate_40</td>\n",
       "      <td>179</td>\n",
       "      <td>True</td>\n",
       "      <td>True</td>\n",
       "    </tr>\n",
       "  </tbody>\n",
       "</table>\n",
       "</div>"
      ],
      "text/plain": [
       "   userid  version  sum_gamerounds  retention_1  retention_7\n",
       "0     116  gate_30               3        False        False\n",
       "1     337  gate_30              38         True        False\n",
       "2     377  gate_40             165         True        False\n",
       "3     483  gate_40               1        False        False\n",
       "4     488  gate_40             179         True         True"
      ]
     },
     "execution_count": 3,
     "metadata": {},
     "output_type": "execute_result"
    }
   ],
   "source": [
    "games.head()"
   ]
  },
  {
   "cell_type": "markdown",
   "metadata": {},
   "source": [
    "Important is to check if the number of users in control and each of the tests groups is similar. In AB testing it is a generally good approach to calculate the probability of the event. Click through probability - unique visitors who clicked / unique visitors to the page, probability of retention = number of users with retention in day 1 or 7 over the total number of users. This probability assures us that even if the sample size is different this probability is always between 0 and 1 and the binomial distribution of AB testing requires us to compare experiments using probability rather than the count. "
   ]
  },
  {
   "cell_type": "code",
   "execution_count": 4,
   "metadata": {},
   "outputs": [
    {
     "name": "stdout",
     "output_type": "stream",
     "text": [
      "The total number of users taking part in the experiment either in the control or test group is 90189\n",
      "The total number of users in the control group is 44700 and test group 45489\n"
     ]
    }
   ],
   "source": [
    "print(\"The total number of users taking part in the experiment either in the control or test group is {}\".format(games.shape[0]))\n",
    "print(\"The total number of users in the control group is {} and test group {}\".format(games[games['version'] == 'gate_30'].shape[0], games[games['version'] == 'gate_40'].shape[0]))"
   ]
  },
  {
   "cell_type": "code",
   "execution_count": 5,
   "metadata": {},
   "outputs": [
    {
     "data": {
      "image/png": "[encoded data removed]",
      "text/plain": [
       "<Figure size 720x288 with 1 Axes>"
      ]
     },
     "metadata": {
      "needs_background": "light"
     },
     "output_type": "display_data"
    }
   ],
   "source": [
    "plt.figure(figsize=(10,4))\n",
    "sns.set(rc={\"axes.facecolor\":\"#0ff0f7\", \"axes.grid\":False})\n",
    "sns.countplot(x=games['version'] , order=games['version'].value_counts().index, palette=['#ebce13',\"#09d681\"])\n",
    "plt.show()"
   ]
  },
  {
   "cell_type": "markdown",
   "metadata": {},
   "source": [
    "Can we see any outlier that we can remove so that we can better understand the true difference? "
   ]
  },
  {
   "cell_type": "code",
   "execution_count": 6,
   "metadata": {},
   "outputs": [
    {
     "data": {
      "image/png": "[encoded data removed]",
      "text/plain": [
       "<Figure size 792x576 with 1 Axes>"
      ]
     },
     "metadata": {},
     "output_type": "display_data"
    }
   ],
   "source": [
    "plt.figure(figsize=(11,8))\n",
    "sns.boxplot(x=games.version ,palette=\"Set1\", y = games.sum_gamerounds , color='black')\n",
    "plt.show()"
   ]
  },
  {
   "cell_type": "code",
   "execution_count": 7,
   "metadata": {},
   "outputs": [
    {
     "data": {
      "text/plain": [
       "<Figure size 1440x792 with 0 Axes>"
      ]
     },
     "metadata": {},
     "output_type": "display_data"
    },
    {
     "data": {
      "image/png": "[encoded data removed]",
      "text/plain": [
       "<Figure size 360x360 with 1 Axes>"
      ]
     },
     "metadata": {},
     "output_type": "display_data"
    }
   ],
   "source": [
    "games = games[games['sum_gamerounds'] < 10000]\n",
    "\n",
    "plt.figure(figsize=(20,11))\n",
    "sns.catplot(x='version' , y='sum_gamerounds' , data=games)\n",
    "plt.show()"
   ]
  },
  {
   "cell_type": "code",
   "execution_count": 8,
   "metadata": {},
   "outputs": [],
   "source": [
    "games[\"retention_1\"] = games[\"retention_1\"].astype(int)\n",
    "games[\"retention_7\"] = games[\"retention_7\"].astype(int)"
   ]
  },
  {
   "cell_type": "markdown",
   "metadata": {},
   "source": [
    "#### Hypothesis testing\n",
    "\n",
    "The word \"hypothesis\" is made of two words: hypo – under / less than and thesis – refer to place / generally held view. It is an effective way to use this fact when writing the hypothesis. I will refer to this way of writing the hypothesis:  \n",
    "\n",
    "**Writing the “If” section of your Hypothesis**\n",
    " 1. Start your sentence with the word “If”\n",
    " 2. Write down one of the variables\n",
    " 3. Connect statement with one of the following:\n",
    "     * is related to\n",
    "     * is affected by\n",
    "     * causes\n",
    " 4. Write down other variables\n",
    " \n",
    "**Writing the “then” section of your Hypothesis**\n",
    " 1. Comment on the relationship between those two variables.\n",
    " \n",
    "**Hypothesis** - Main hypothesis of our interest. For example we can see that the increase of sum game rounds that player played potentially could decrease the retention date if we will take on account time that user needs to play for completing each round but is this change statistically significiant so to implement the change?   \n",
    "\n",
    "*H0: If the retention rate is not affected by version of the game where the gate is placed on a different stage, then by placing the gate at level 40 we will not change the retention rate.*\n",
    "\n",
    "*HA: If the retention rate is affected by the version of the game then placing the gate at level 40 will change the retention rate.* "
   ]
  },
  {
   "cell_type": "markdown",
   "metadata": {},
   "source": [
    "#### Statistics behind AB testing. \n",
    "\n",
    "The distribution of AB test can be seen as Binomial – success or failure of the experiment. Either retention rate increased or not, either number of games played increased or not. With sample mean µ = number of users with retention in day 1 / total number of users and SEmean =  $\\sqrt{\\frac{p(1-p)}{N}}$\n",
    "\n",
    "We can use binomial distribution if there are \n",
    "* two outcomes success or failure, Ho or HA, \n",
    "* the events are independent \n",
    "* the events follow an identical distribution (probability of success needs to be identical for all of them) "
   ]
  },
  {
   "cell_type": "markdown",
   "metadata": {},
   "source": [
    "#### Probability of retention\n",
    "\n",
    "First, we calculate statistics in the control group as that’s what we know. In our example, we can see that probability of retention day 1 in the control group is 0.448. "
   ]
  },
  {
   "cell_type": "code",
   "execution_count": 9,
   "metadata": {},
   "outputs": [
    {
     "name": "stdout",
     "output_type": "stream",
     "text": [
      "Probability of retention rate in the the control group is 44.82%\n"
     ]
    }
   ],
   "source": [
    "p30_1 = games[(games['version'] == 'gate_30') & (games['retention_1'] == 1)].shape[0]/games[games['version'] == 'gate_30'].shape[0]\n",
    "print(\"Probability of retention rate in the the control group is {:.2%}\".format(p30_1))"
   ]
  },
  {
   "cell_type": "markdown",
   "metadata": {},
   "source": [
    "#### Normality assumption\n",
    "\n",
    "To use normality assumption for calculating a confidence interval for retention rate at control group I need to use the rule of thumb that if Np > 5 I can use normal distribution In our case is much more than that."
   ]
  },
  {
   "cell_type": "code",
   "execution_count": 10,
   "metadata": {},
   "outputs": [
    {
     "name": "stdout",
     "output_type": "stream",
     "text": [
      "The normality assumption holds as N (number of observation in the control group) multiplied by p (probability of retention in the control group) is 20034\n"
     ]
    }
   ],
   "source": [
    "print(\"The normality assumption holds as N (number of observation in the control group) multiplied by p (probability of retention in the control group) is {}\".format(int(games[games['version'] == 'gate_30'].shape[0] * (p30_1))))"
   ]
  },
  {
   "cell_type": "markdown",
   "metadata": {},
   "source": [
    "#### Standard error of the mean and the margin of error\n",
    "\n",
    "If you would repeat the experiment multiple of times the probability of retention would be different but it would start to form normal distribution, the bell curve.  Margin error is the width of the distribution around the mean and the standard error of the mean is the width from the mean of the means to the right or left side of the curve."
   ]
  },
  {
   "cell_type": "code",
   "execution_count": 11,
   "metadata": {},
   "outputs": [
    {
     "name": "stdout",
     "output_type": "stream",
     "text": [
      "The standard error of the mean for retention rate of the control group is 0.0024 with margin error of 0.0046 \n"
     ]
    }
   ],
   "source": [
    "SE_30_1 = ((p30_1*(1-p30_1))/games[games['version'] == 'gate_30'].shape[0])**0.5\n",
    "m30_1 = 1.96 * SE_30_1\n",
    "print(\"The standard error of the mean for retention rate of the control group is {:.4f} with margin error of {:.4f} \".format(SE_30_1, m30_1))"
   ]
  },
  {
   "cell_type": "markdown",
   "metadata": {},
   "source": [
    "#### Confidence interval for retention\n",
    "\n",
    "95% confidence interval means that if we would theoretically repeat the experiment over and over again we would expect our interval around the sample mean to cover the true value of the population 95% of the time.  This means that if you run the experiment again with a similar number of players the number of retention in day 1 would be between 19,763 and 20,305 players."
   ]
  },
  {
   "cell_type": "code",
   "execution_count": 12,
   "metadata": {},
   "outputs": [
    {
     "name": "stdout",
     "output_type": "stream",
     "text": [
      "The 99% Confidence Interval for the number of retention in day 1 for gate at level 30 would be between 19828 and 20240\n"
     ]
    }
   ],
   "source": [
    "print(\"The 99% Confidence Interval for the number of retention in day 1 for gate at level 30 would be between {:.0f} and {:.0f}\".format((p30_1 - m30_1) * games[games['version'] == 'gate_30'].shape[0], (p30_1 + m30_1) * games[games['version'] == 'gate_30'].shape[0]))"
   ]
  },
  {
   "cell_type": "markdown",
   "metadata": {},
   "source": [
    "We would need then to decide what change is important for us. What essential in addition to statistically significant confidence interval would be so to set the effective boundary to implement the change. You need to take in consideration other things before implementing the change such as business investment and time efficiency. \n",
    "\n",
    "Statistical significant is about repeatability. You want to get this guarantee that yes the measure is repeatable but also you want to be sure that if you see the difference between business standpoint so it’s practically significant it’s also statistically significant. To pick up practical significance let’s first pick up boundaries. Let say that from a business perspective 5% of change in the retention rate would be practically significant. Before running the experiment you need to decide how big the sample size you want it to be. How big the control and test group should be. \n",
    "\n",
    "To measure that let start from calculating "
   ]
  },
  {
   "cell_type": "markdown",
   "metadata": {},
   "source": [
    "#### Pooled probability and pooled standard error\n",
    "\n",
    "We need to first calculate the pooled probability of the click. It is the total probability from the control and test group. "
   ]
  },
  {
   "cell_type": "code",
   "execution_count": 13,
   "metadata": {},
   "outputs": [
    {
     "name": "stdout",
     "output_type": "stream",
     "text": [
      "The pooled probability in the experiment is 44.52% with 0.0033 pooled standard error\n"
     ]
    }
   ],
   "source": [
    "pool = (games[(games['version'] == 'gate_30') & (games['retention_1'] == 1)].shape[0] + games[(games['version'] == 'gate_40') & (games['retention_1'] == 1)].shape[0]) / (games[games['version'] == 'gate_40'].shape[0] + games[games['version'] == 'gate_30'].shape[0])\n",
    "SEpool = (pool * (1 - pool) * (1/games[games['version'] == 'gate_30'].shape[0] + 1/games[games['version'] == 'gate_40'].shape[0]))**0.5\n",
    "print(\"The pooled probability in the experiment is {:.2%} with {:.4f} pooled standard error\".format(pool, SEpool))"
   ]
  },
  {
   "cell_type": "code",
   "execution_count": 14,
   "metadata": {},
   "outputs": [
    {
     "name": "stdout",
     "output_type": "stream",
     "text": [
      "The retention rate in day 1 for the test group is 44.23%\n"
     ]
    }
   ],
   "source": [
    "p40_1 = games[(games['version'] == 'gate_40') & (games['retention_1'] == 1)].shape[0]/games[games['version'] == 'gate_40'].shape[0]\n",
    "print(\"The retention rate in day 1 for the test group is {:.2%}\".format(p40_1))"
   ]
  },
  {
   "cell_type": "markdown",
   "metadata": {},
   "source": [
    "If diff < -1.96 x SEpool or diff > 1.96 * SEpool then we can conculde that that the difference is due to change not due to chance. If the difference that we see is significiant or not. "
   ]
  },
  {
   "cell_type": "code",
   "execution_count": 15,
   "metadata": {},
   "outputs": [
    {
     "name": "stdout",
     "output_type": "stream",
     "text": [
      "The estimated difference in 1 day retention probability between test and control group is -0.0059 with -0.0065 margin of error\n"
     ]
    }
   ],
   "source": [
    "# estimated difference with the difference that we care about is to be 2%\n",
    "diff = p40_1 - p30_1\n",
    "m = -1.96*SEpool\n",
    "print(\"The estimated difference in 1 day retention probability between test and control group is {:.4f} with {:.4f} margin of error\".format(diff, m))"
   ]
  },
  {
   "cell_type": "code",
   "execution_count": 16,
   "metadata": {},
   "outputs": [
    {
     "name": "stdout",
     "output_type": "stream",
     "text": [
      "The 95% confidence interval around the estimated difference is between 0.0006 and -0.0124\n"
     ]
    }
   ],
   "source": [
    "# bounds of confidence interval \n",
    "print(\"The 95% confidence interval around the estimated difference is between {:.4f} and {:.4f}\".format(diff - m, diff + m))\n",
    "# This is highly proable that the change won't be bigger than 2% so we would not implement the change. "
   ]
  },
  {
   "cell_type": "markdown",
   "metadata": {},
   "source": [
    "#### Type α and β errors\n",
    "\n",
    "α = P(falsely conluding there is a difference) = P(reject null | null true). In our case we chose α to be 0.05 so 5%. \n",
    "\n",
    "If you would increase sample your standard error would decrease so the distribution around the mean would be narrower. Compare the pictures. Consider that there is a true difference between the mean. The difference is equal to a practical significant of 0.02 You fail to reject the null hypothesis and you conclude there is no statistically significant between two groups. \n",
    "\n",
    "In the small sample size β = P(fail to reject | null false) is pretty high (yellow shaded area). Then you would fail to reject the experiment that did have the difference you care about. Risk of a small sample is that alpha is low and beta is high. The yellow shaded region is the region of Beta and it depends on how big your effect was.\n",
    "\n",
    "![Small sample size](sample1.png \"Small sample size\")\n",
    "\n",
    "If you would increase sample your standard error would decrease so the distribution around the mean would be narrower.\n",
    "\n",
    "![Larger sample size](sample2.png \"Large sample size\")\n",
    "\n",
    "As your true change grows larger and larger then your beta would go down. You consider beta at your practical significant boundary as you don’t care about any smaller changes and any larger changes will have a lower beta that means a lower chance of error. With a larger sample, both distributions got tighter alpha doesn’t change but you are less more likely to reject the null and commit the beta error "
   ]
  },
  {
   "cell_type": "markdown",
   "metadata": {},
   "source": [
    "Important is too choose sample size large enought to have significance of the practical difference. There are many different online calculators that can help in determining sample size. \n",
    "\n",
    "![Sample size calculator](SampleSize.png \"Sample Size calculator\")"
   ]
  },
  {
   "cell_type": "code",
   "execution_count": 17,
   "metadata": {},
   "outputs": [
    {
     "name": "stdout",
     "output_type": "stream",
     "text": [
      "The sample size of the control group is 44699 and the sample size of the test group is 45489 so they are big enough to catch the significiance\n"
     ]
    }
   ],
   "source": [
    "print(\"The sample size of the control group is {} and the sample size of the test group is {} so they are big enough to catch the significiance\". format(games[games['version'] == 'gate_30'].shape[0], games[games['version'] == 'gate_40'].shape[0]))"
   ]
  },
  {
   "cell_type": "markdown",
   "metadata": {},
   "source": [
    "There are many things when considering the sample size:\n",
    "\n",
    "* With increase of retention probability but still less than 50% you would need to increase the sample size. The standard error depends on the probability it’s proportional to  so I will need to increase the sample size to decrease the standard error \n",
    "* If you decide to increase your practical significance level  you can decrease the sample size. If you increase your practical significance level you look for larger change to detect. Larger changes are easier to detect so you won’t need so big sample size\n",
    "* If you would consider increase your confidence level you would need to increase the sample size. You’re saying that you want to be more certain that the change occurred before you reject the null. If you want to keep your sensitivity the same you would need to increase the sample size. \n",
    "\n",
    "In our case, we would conclude that this is highly probable that the change won't be bigger than 2% so we would not implement the change.\n",
    "\n",
    "![Reject or confirm the change](Sig.png \"Reject or confirm the change\")\n",
    "\n",
    "This case is called neutral. You are confident that the result is not different than 0 since the confidence interval contains 0 and you are confident that there is no practically significant change. \n",
    "\n",
    "The business case significance is d = -0.2 or d = 0.2 The lower bound of confidence interval is -0.012 and the upper confidence interval is 0.0005. so it is eaxactly between the boundaries"
   ]
  },
  {
   "cell_type": "markdown",
   "metadata": {},
   "source": [
    "#### 7 days retention change with change of the gate at level 40\n",
    "\n",
    "Summarizing everything what we have learned above we can quickly calculation significiance of change to the 7 days retention rate. "
   ]
  },
  {
   "cell_type": "code",
   "execution_count": 18,
   "metadata": {},
   "outputs": [
    {
     "name": "stdout",
     "output_type": "stream",
     "text": [
      "The probability of 7 days retention in the control group is 19.02% with standard error of 0.0019 and 0.0036 the margin of error\n"
     ]
    }
   ],
   "source": [
    "p30_7 = games[(games['version'] == 'gate_30') & (games['retention_7'] == 1)].shape[0]/games[games['version'] == 'gate_30'].shape[0]\n",
    "SE_30_7 = ((p30_7*(1-p30_7))/games[games['version'] == 'gate_30'].shape[0])**0.5\n",
    "m30_7 = 1.96*SE_30_7\n",
    "print(\"The probability of 7 days retention in the control group is {:.2%} with standard error of {:.4f} and {:.4f} the margin of error\".format(p30_7, SE_30_7, m30_7))"
   ]
  },
  {
   "cell_type": "code",
   "execution_count": 19,
   "metadata": {},
   "outputs": [
    {
     "name": "stdout",
     "output_type": "stream",
     "text": [
      "The 99% Confidence Interval for the number of retention in day 7 for gate at level 30 would be between 8338 and 8664\n"
     ]
    }
   ],
   "source": [
    "print(\"The 99% Confidence Interval for the number of retention in day 7 for gate at level 30 would be between {:.0f} and {:.0f}\".format((p30_7 - m30_7) * games[games['version'] == 'gate_30'].shape[0], (p30_7 + m30_7) * games[games['version'] == 'gate_30'].shape[0]))"
   ]
  },
  {
   "cell_type": "code",
   "execution_count": 20,
   "metadata": {},
   "outputs": [
    {
     "name": "stdout",
     "output_type": "stream",
     "text": [
      "The pooled probability of 7 days retention in the experiment is 18.61% with 0.0026 standard error of the mean\n"
     ]
    }
   ],
   "source": [
    "pool_7 = (games[(games['version'] == 'gate_30') & (games['retention_7'] == 1)].shape[0] + games[(games['version'] == 'gate_40') & (games['retention_7'] == 1)].shape[0]) / (games[games['version'] == 'gate_40'].shape[0] + games[games['version'] == 'gate_30'].shape[0])\n",
    "SEpool_7 = (pool_7 * (1 - pool_7) * (1/games[games['version'] == 'gate_30'].shape[0] + 1/games[games['version'] == 'gate_40'].shape[0]))**0.5\n",
    "print(\"The pooled probability of 7 days retention in the experiment is {:.2%} with {:.4f} standard error of the mean\".format(pool_7, SEpool_7))"
   ]
  },
  {
   "cell_type": "code",
   "execution_count": 21,
   "metadata": {},
   "outputs": [
    {
     "name": "stdout",
     "output_type": "stream",
     "text": [
      "The 7 days retention for the test group is 18.20%. So the estimated difference of the mean between test and control group is -0.0082 with -0.0051 margin of error\n"
     ]
    }
   ],
   "source": [
    "p40_7 = games[(games['version'] == 'gate_40') & (games['retention_7'] == 1)].shape[0]/games[games['version'] == 'gate_40'].shape[0]\n",
    "diff_7 = p40_7 - p30_7\n",
    "m40_7 = -1.96*SEpool_7\n",
    "print(\"The 7 days retention for the test group is {:.2%}. So the estimated difference of the mean between test and control group is {:.4f} with {:.4f} margin of error\".format(p40_7, diff_7, m40_7))"
   ]
  },
  {
   "cell_type": "code",
   "execution_count": 22,
   "metadata": {},
   "outputs": [
    {
     "name": "stdout",
     "output_type": "stream",
     "text": [
      "The 95% Confidence Interval for the number of retention in day 7 for gate at level 30 would be between 8510 and 8048\n",
      "The 95% confidence interval around the estimated difference is between -0.0031 and -0.0133\n"
     ]
    }
   ],
   "source": [
    "print(\"The 95% Confidence Interval for the number of retention in day 7 for gate at level 30 would be between {:.0f} and {:.0f}\".format((p40_7 - m40_7) * games[games['version'] == 'gate_40'].shape[0], (p40_7 + m40_7) * games[games['version'] == 'gate_40'].shape[0]))\n",
    "print(\"The 95% confidence interval around the estimated difference is between {:.4f} and {:.4f}\".format(diff_7 - m40_7, diff_7 + m40_7))"
   ]
  },
  {
   "cell_type": "markdown",
   "metadata": {},
   "source": [
    "So again since the full confidence interval lies in the acceptance area we can accept the H0 and conculde that there is no statistically significiant difference between the control and test group so the change should be rejected. "
   ]
  },
  {
   "cell_type": "code",
   "execution_count": null,
   "metadata": {},
   "outputs": [],
   "source": []
  }
 ],
 "metadata": {
  "kernelspec": {
   "display_name": "Python 3",
   "language": "python",
   "name": "python3"
  },
  "language_info": {
   "codemirror_mode": {
    "name": "ipython",
    "version": 3
   },
   "file_extension": ".py",
   "mimetype": "text/x-python",
   "name": "python",
   "nbconvert_exporter": "python",
   "pygments_lexer": "ipython3",
   "version": "3.7.0"
  }
 },
 "nbformat": 4,
 "nbformat_minor": 2
}
